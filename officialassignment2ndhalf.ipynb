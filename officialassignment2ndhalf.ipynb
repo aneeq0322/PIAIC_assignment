{
 "cells": [
  {
   "cell_type": "code",
   "execution_count": 4,
   "metadata": {},
   "outputs": [
    {
     "name": "stdout",
     "output_type": "stream",
     "text": [
      "enter the value of x1:2\n",
      "enter the value of y1:4\n",
      "enter the value of x2:4\n",
      "enter the value of y2:4\n",
      "distance between ( 2.0 , 4.0 ) and ( 4.0 , 4.0 ) is 2.0\n"
     ]
    }
   ],
   "source": [
    "#(11)Write a Python program to compute the distance between the points (x1, y1) and (x2, y2).\n",
    "#Program Console Sample 1:\n",
    "#Enter Co-ordinate for x1: 2\n",
    "#Enter Co-ordinate for x2: 4\n",
    "#Enter Co-ordinate for y1: 4\n",
    "#Enter Co-ordinate for y2: 4\n",
    "#Distance between points (2, 4) and (4, 4) is 2\n",
    "from math import sqrt \n",
    "x1=float(input(\"enter the value of x1:\"))\n",
    "y1=float(input(\"enter the value of y1:\"))\n",
    "x2=float(input(\"enter the value of x2:\"))\n",
    "y2=float(input(\"enter the value of y2:\"))\n",
    "d=sqrt(((x2-x1)**2)-((y2-y1)**2))\n",
    "print(\"distance between (\",x1,\",\",y1,\") and (\",x2,\",\",y2,\") is\",d)"
   ]
  },
  {
   "cell_type": "code",
   "execution_count": 5,
   "metadata": {},
   "outputs": [
    {
     "name": "stdout",
     "output_type": "stream",
     "text": [
      "enter your height in feet:5\n",
      "your height in centimeter is  152.4 cm\n"
     ]
    }
   ],
   "source": [
    "#(12)Write a Python program to convert height in feet to centimetres.\n",
    "#Program Console Sample 1:\n",
    "#Enter Height in Feet: 5\n",
    "#There are 152.4 Cm in 5 ft\n",
    "height=float(input(\"enter your height in feet:\"))\n",
    "height_in_cm= height * 30.48\n",
    "print(\"your height in centimeter is \",height_in_cm,\"cm\")\n",
    "\n"
   ]
  },
  {
   "cell_type": "code",
   "execution_count": 7,
   "metadata": {},
   "outputs": [
    {
     "name": "stdout",
     "output_type": "stream",
     "text": [
      "enter your height in cm:180\n",
      "enter your weight in kg75\n",
      "your BMI is 23.15\n"
     ]
    }
   ],
   "source": [
    "#(13)Write a Python program to calculate body mass index\n",
    "#Program Console Sample 1:\n",
    "#Enter Height in Cm: 180\n",
    "#Enter Weight in Kg: 75\n",
    "#Your BMI is 23.15\n",
    "h=float(input(\"enter your height in cm:\"))\n",
    "w=float(input(\"enter your weight in kg\"))\n",
    "BMI= w/((h/100)**2)\n",
    "print(\"your BMI is %.2f\"%BMI)"
   ]
  },
  {
   "cell_type": "code",
   "execution_count": 18,
   "metadata": {},
   "outputs": [
    {
     "name": "stdout",
     "output_type": "stream",
     "text": [
      "enter an positive integer5\n",
      "sum of n positive integer till 5 is  15\n"
     ]
    }
   ],
   "source": [
    "#(14)Write a python program to sum of the first n positive integers\n",
    "#Program Console Sample 1:\n",
    "#Enter value of n: 5\n",
    "#Sum of n Positive integers till 5 is 15\n",
    "n=int(input(\"enter an positive integer\"))\n",
    "a=0\n",
    "for x in range(0,n+1):\n",
    "    a+=x\n",
    "print(\"sum of n positive integer till\",n,\"is \",a)"
   ]
  },
  {
   "cell_type": "code",
   "execution_count": 24,
   "metadata": {},
   "outputs": [
    {
     "name": "stdout",
     "output_type": "stream",
     "text": [
      "enter number15\n",
      "sum of integers is  6\n"
     ]
    }
   ],
   "source": [
    "#(15)Write a Python program to calculate the sum of the digits in an integer\n",
    "#Program Console Sample 1:\n",
    "#Enter a number: 15\n",
    "#Sum of 1 + 5 is 6\n",
    "#Program Console Sample 2:\n",
    "#Enter a number: 1234\n",
    "#Sum of 1 + 2 + 3 + 4 is 10\n",
    "n=int(input(\"enter number\"))\n",
    "a=0\n",
    "while(n!=0):\n",
    "    a= a+int(n % 10)\n",
    "    n=int(n/10)\n",
    "print(\"sum of integers is \",a)"
   ]
  },
  {
   "cell_type": "code",
   "execution_count": 42,
   "metadata": {},
   "outputs": [
    {
     "name": "stdout",
     "output_type": "stream",
     "text": [
      "enter an integer3\n",
      "the binary representation of  3 is 11"
     ]
    }
   ],
   "source": [
    "#(16)Write a Python program to convert an decimal integer to binary\n",
    "#Program Console Sample 1:\n",
    "#Enter a decimal number: 5\n",
    "#Binary Representation of 5 is 101\n",
    "#Program Console Sample 2:\n",
    "#Enter a decimal number: 32\n",
    "#Binary Representation of 32 is 100000\n",
    "\n",
    "n=int(input(\"enter an integer\"))\n",
    "binary=[0]*n\n",
    "a=0\n",
    "print(\"the binary representation of \",n,\"is \",end=\"\")\n",
    "while(n!=0):\n",
    "    binary[a]= n%2\n",
    "    n= int(n/2)\n",
    "    a+=1\n",
    "for i in range(a-1,-1,-1):\n",
    "    print(binary[i],end=\"\")\n",
    "#end=\"\" command used to not create a line because print command have a default setup to execute coomand in new line    \n",
    "    \n",
    "\n",
    "    "
   ]
  },
  {
   "cell_type": "code",
   "execution_count": 56,
   "metadata": {},
   "outputs": [
    {
     "name": "stdout",
     "output_type": "stream",
     "text": [
      "enter numbers of bits1001\n",
      "decimal representation of  1001 is 9\n"
     ]
    }
   ],
   "source": [
    "#(17)Write a program to convert binary number to Decimal number\n",
    "#Program Console Sample 1:\n",
    "#Enter a Binary number: 1101\n",
    "#Decimal Representation of 1101 is 13\n",
    "#Program Console Sample 2:\n",
    "#Enter a Binary number: 1001\n",
    "#Decimal Representation of 1001 is 9\n",
    "n=int(input(\"enter numbers of bits\"))\n",
    "a=0\n",
    "i=0\n",
    "print(\"decimal representation of \",n,end=\" is \")\n",
    "while(n!=0):\n",
    "    rem= int(n%10)\n",
    "    a=a+rem*(2**i)\n",
    "    n=n/10\n",
    "    i+=1\n",
    "print(a)"
   ]
  },
  {
   "cell_type": "code",
   "execution_count": 58,
   "metadata": {},
   "outputs": [
    {
     "name": "stdout",
     "output_type": "stream",
     "text": [
      "enter an string without using space & special character: QuickBrownFoxJumpsovertheDog\n",
      "vowels= 9 consonants= 19\n"
     ]
    }
   ],
   "source": [
    "#(18)Input a text and count the occurrences of vowels and consonant\n",
    "#Program Console Sample 1:\n",
    "#Enter text: QuickBrownFoxJumpsovertheDog\n",
    "#Vowels: 9\n",
    "#Consonants: 19\n",
    "sentence=str(input(\"enter an string without using space & special character: \"))\n",
    "count1=0\n",
    "count2=0\n",
    "for char in sentence:\n",
    "    if char==\"a\"or char==\"e\"or char==\"i\"or char==\"o\"or char==\"u\"or char==\"A\"or char==\"E\"or char==\"I\"or char==\"O\"or char==\"U\":\n",
    "        count1+=1\n",
    "    else:\n",
    "        count2+=1\n",
    "print(\"vowels=\",count1,\"consonants=\",count2)\n",
    "        "
   ]
  },
  {
   "cell_type": "code",
   "execution_count": 61,
   "metadata": {},
   "outputs": [
    {
     "name": "stdout",
     "output_type": "stream",
     "text": [
      "enter an palindrome aha\n",
      "text  aha id pslindrome\n"
     ]
    }
   ],
   "source": [
    "#(19)Write a program to check whether given input is palindrome or not\n",
    "#Program Console Sample 1:\n",
    "#Enter text: AHA\n",
    "#Text AHA is Palindrome\n",
    "#Program Console Sample 2:\n",
    "#Enter text: Hello\n",
    "#Text Hello is not a Palindrome\n",
    "word=input(\"enter an palindrome \")\n",
    "#reverse the string means start with the end of the string's alphabet\n",
    "reverse=word[::-1]\n",
    "if word==reverse:\n",
    "    print(\"text \",word,\"is pslindrome\")\n",
    "else:\n",
    "    print(\"text \",word,\"is not a palindrome\")\n",
    "    \n"
   ]
  },
  {
   "cell_type": "code",
   "execution_count": 82,
   "metadata": {},
   "outputs": [
    {
     "name": "stdout",
     "output_type": "stream",
     "text": [
      "enter a stringPYTHon123 %^\n",
      "python123 %^\n",
      "alphabets= 6 \n",
      "numbers= 3 \n",
      "special character= 2 space= 1\n"
     ]
    }
   ],
   "source": [
    "#(20)Write a Python program that accepts a string and calculate the number of digits and letters\n",
    "#Program Console Sample 1:\n",
    "#Enter text: Python 3.2\n",
    "#Numbers = 2\n",
    "#Alphabets = 6\n",
    "#Special Characters = 1\n",
    "#Spaces = 1\n",
    "\n",
    "string=str(input(\"enter a string\"))\n",
    "lower=string.lower()\n",
    "count1=0\n",
    "count2=0\n",
    "count3=0\n",
    "count4=0\n",
    "for s in lower:\n",
    "    if s==\"a\"or s==\"b\"or s==\"c\"or s==\"d\"or s==\"e\"or s==\"f\"or s==\"g\"or s==\"h\"or s==\"i\"or s==\"j\"or s==\"k\"or s==\"l\"or s==\"m\"or s==\"n\"or s==\"o\"or s==\"p\"or s==\"q\"or s==\"r\"or s==\"s\"or s==\"t\"or s==\"u\"or s==\"v\"or s==\"w\"or s==\"x\"or s==\"y\"or s==\"z\":\n",
    "        count1+=1\n",
    "    elif s==\"1\" or s==\"2\" or s==\"3\" or s==\"4\" or s==\"5\" or s==\"6\" or s==\"7\" or s==\"8\" or s==\"9\":\n",
    "        count2+=1\n",
    "    elif s==\"!\"or s==\"@\"or s==\"#\"or s==\"$\"or s==\"%\"or s==\"^\"or s==\"&\"or s==\"*\"or s==\"(\"or s==\")\"or s==\"_\"or s==\"-\"or s==\"+\"or s==\"=\"or s==\"[\"or s==\"{\"or s==\"}\"or s==\"]\"or s==\"|\"or s==\":\"or s==\";\"or s==\"'\"or s==\",\"or s==\".\"or s==\"<\"or s==\">\"or s==\"/\"or s==\"?\"or s==\"`\":\n",
    "        count3+=1\n",
    "    elif s==\" \":\n",
    "        count4+=1\n",
    "    else:\n",
    "        print(\"invalid\")\n",
    "print(\"alphabets=\",count1,\"\\nnumbers=\",count2,\"\\nspecial character=\",count3,\"space=\",count4)\n",
    "\n",
    "\n",
    "\n",
    "\n",
    "\n",
    "\n",
    "\n"
   ]
  },
  {
   "cell_type": "code",
   "execution_count": 93,
   "metadata": {},
   "outputs": [
    {
     "name": "stdout",
     "output_type": "stream",
     "text": [
      " \n",
      "*  \n",
      "* *  \n",
      "* * *  \n",
      "* * * *  \n",
      "* * * * *  \n",
      "* * * *  \n",
      "* * *  \n",
      "* *  \n",
      "*  \n"
     ]
    }
   ],
   "source": [
    "#(21)Write a Python program to construct the following pattern\n",
    "#*\n",
    "#* *\n",
    "#* * *\n",
    "#* * * *\n",
    "#* * * * *\n",
    "#* * * *\n",
    "#* * *\n",
    "#* *\n",
    "#*\n",
    "i=5\n",
    "for x in range(0,i):\n",
    "    for j in range(0,x):\n",
    "        print(\"*\",end=\" \")\n",
    "    print(\" \")\n",
    "for x in range(i,0,-1):\n",
    "    for j in range(0,x):\n",
    "        print(\"*\",end=\" \")\n",
    "    print(\" \")\n",
    "        "
   ]
  },
  {
   "cell_type": "code",
   "execution_count": 97,
   "metadata": {},
   "outputs": [
    {
     "name": "stdout",
     "output_type": "stream",
     "text": [
      " \n",
      "1  \n",
      "1 2  \n",
      "1 2 3  \n",
      "1 2 3 4  \n",
      "1 2 3 4 5  \n",
      "1 2 3 4  \n",
      "1 2 3  \n",
      "1 2  \n",
      "1  \n"
     ]
    }
   ],
   "source": [
    "#(22)Write a Python program to construct the following pattern\n",
    "#1\n",
    "#1 2\n",
    "#1 2 3\n",
    "#1 2 3 4\n",
    "#1 2 3 4 5\n",
    "#1 2 3 4\n",
    "#1 2 3\n",
    "#1 2\n",
    "#1\n",
    "i=6\n",
    "for x in range(1,i):\n",
    "    for j in range(1,x):\n",
    "        print(j,end=\" \")\n",
    "    print(\" \")\n",
    "for x in range(i,1,-1):\n",
    "    for j in range(1,x):\n",
    "        print(j,end=\" \")\n",
    "    print(\" \")\n",
    "        "
   ]
  },
  {
   "cell_type": "code",
   "execution_count": 103,
   "metadata": {},
   "outputs": [
    {
     "name": "stdout",
     "output_type": "stream",
     "text": [
      " \n",
      "1 \n",
      "22 \n",
      "333 \n",
      "4444 \n",
      "55555 \n",
      "666666 \n",
      "7777777 \n",
      "88888888 \n",
      "999999999 \n"
     ]
    }
   ],
   "source": [
    "#(23)Write a Python program to construct the following pattern\n",
    "#1\n",
    "#22\n",
    "#333\n",
    "#4444\n",
    "#55555\n",
    "#666666\n",
    "#7777777\n",
    "#88888888\n",
    "#999999999\n",
    "i=10\n",
    "for x in range(0,i):\n",
    "    for j in range(0,x):\n",
    "        print(x,end=\"\")\n",
    "    print(\" \")"
   ]
  },
  {
   "cell_type": "code",
   "execution_count": null,
   "metadata": {},
   "outputs": [],
   "source": []
  }
 ],
 "metadata": {
  "kernelspec": {
   "display_name": "Python 3",
   "language": "python",
   "name": "python3"
  },
  "language_info": {
   "codemirror_mode": {
    "name": "ipython",
    "version": 3
   },
   "file_extension": ".py",
   "mimetype": "text/x-python",
   "name": "python",
   "nbconvert_exporter": "python",
   "pygments_lexer": "ipython3",
   "version": "3.7.3"
  }
 },
 "nbformat": 4,
 "nbformat_minor": 2
}
