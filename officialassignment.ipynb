{
 "cells": [
  {
   "cell_type": "code",
   "execution_count": null,
   "metadata": {},
   "outputs": [],
   "source": [
    "#(1)Write a Python program which accepts the radius of a circle from the user and compute the area.\n",
    "#Program Console Sample Output 1:\n",
    "#Input Radius: 0.5\n",
    "#Area of Circle with radius 0.5 is 0.7853981634\n",
    "import math\n",
    "r=int(input(\"enter the radius of circle=\"))\n",
    "a= (r**2)* math.pi\n",
    "print(\"area of the circle is\",a)"
   ]
  },
  {
   "cell_type": "code",
   "execution_count": null,
   "metadata": {},
   "outputs": [],
   "source": [
    "#(2)Python program to check if a number is positive, negative or zero\n",
    "num=float(input(\"enter number\"))\n",
    "if num > 0:\n",
    "    print(\" the number you enterd is positive nunber\")\n",
    "elif num < 0:\n",
    "    print(\"the number you enterd is negative number\")\n",
    "elif num == 0:\n",
    "    print(\"the number you enterd is zero\")"
   ]
  },
  {
   "cell_type": "code",
   "execution_count": null,
   "metadata": {},
   "outputs": [],
   "source": [
    "#(3)Write a Python program to check whether a number is completely divisible by another number. Accept two integer\n",
    "#values form the user \n",
    "#Program Console Sample Output 1:\n",
    "#Enter numerator: 4\n",
    "#Enter Denominator: 2\n",
    "#Number 4 is Completely divisible by 2\n",
    "#Program Console Sample Output 2:\n",
    "#Enter numerator: 7\n",
    "#Enter Denominator: 4\n",
    "#Number 7 is not Completely divisible by 4\n",
    "a=int(input(\"enter numerator=\"))\n",
    "b=int(input(\"enter denominator=\"))\n",
    "output=a%b\n",
    "if output==0:\n",
    "    print(\"number \",a,\"is completely divisible by \",b)\n",
    "else:\n",
    "    print(\"number \",a,\"is not completely divisible by \",b)"
   ]
  },
  {
   "cell_type": "code",
   "execution_count": 9,
   "metadata": {},
   "outputs": [
    {
     "name": "stdout",
     "output_type": "stream",
     "text": [
      "the difference between  2012-02-19 & 2012-04-19 is 60 days\n"
     ]
    }
   ],
   "source": [
    "#(4)Write a Python program to calculate number of days between two dates\n",
    "#Program Console Output:\n",
    "#Enter a date in (dd/mm/yy) format: 12/12/2018\n",
    "#Enter a date in (dd/mm/yy) format: 16/12/2018\n",
    "#There are 4 days in between 12/12/2018 and 16/12/18\n",
    "\n",
    "from datetime import date\n",
    "date1=date(2012,2,19)\n",
    "date2=date(2012,4,19)\n",
    "output=(date2-date1).days\n",
    "print(\"the difference between \",date1,\"&\",date2,\"is\",output,\"days\")"
   ]
  },
  {
   "cell_type": "code",
   "execution_count": 10,
   "metadata": {},
   "outputs": [
    {
     "name": "stdout",
     "output_type": "stream",
     "text": [
      "enter radius of a sphere=2\n",
      "volume of sphere is  33.510321638291124\n"
     ]
    }
   ],
   "source": [
    "#(5)Write a Python program to get the volume of a sphere, please take the radius as input from user\n",
    "#Program Console Output:\n",
    "#Enter Radius of Sphere: 1\n",
    "#Volume of the Sphere with Radius 1 is 4.18\n",
    "\n",
    "import math\n",
    "radius=float(input(\"enter radius of a sphere=\"))\n",
    "volume=4/3 * math.pi *(radius**3)\n",
    "print(\"volume of sphere is \",volume)"
   ]
  },
  {
   "cell_type": "code",
   "execution_count": 20,
   "metadata": {
    "scrolled": true
   },
   "outputs": [
    {
     "name": "stdout",
     "output_type": "stream",
     "text": [
      "enter a stringhello\n",
      "how many times you want to print this string4\n",
      "1 = hello \n",
      "\n",
      "2 = hello \n",
      "\n",
      "3 = hello \n",
      "\n",
      "4 = hello \n",
      "\n"
     ]
    }
   ],
   "source": [
    "#(6)Write a Python program to get a string which is n (non-negative integer) copies of a given string.\n",
    "#Program Console Output:\n",
    "#Enter String: Hi\n",
    "#How many copies of String you need: 4\n",
    "#4 Copies of Hi are HiHiHiHi\n",
    "\n",
    "string=input(\"enter a string\")\n",
    "a=int(input(\"how many times you want to print this string\"))\n",
    "for x in range(0,a):\n",
    "    print(x+1,\"=\",string,\"\\n\")\n",
    "    "
   ]
  },
  {
   "cell_type": "code",
   "execution_count": 22,
   "metadata": {},
   "outputs": [
    {
     "name": "stdout",
     "output_type": "stream",
     "text": [
      "enter number7\n",
      "7 is od number\n"
     ]
    }
   ],
   "source": [
    "#(7)Write a Python program to find whether a given number (accept from the user) is even or odd, print out an appropriate\n",
    "#message to the user\n",
    "#Program Console Output 1:\n",
    "#Enter Number: 4\n",
    "#4 is Even\n",
    "#Program Console Output 2:\n",
    "#Enter Number: 9\n",
    "#9 is Odd\n",
    "\n",
    "x=int(input(\"enter number\"))\n",
    "y=x % 2\n",
    "if y==0:\n",
    "    print(x,\"is even number\")\n",
    "else:\n",
    "    print(x,\"is odd number\")"
   ]
  },
  {
   "cell_type": "code",
   "execution_count": 37,
   "metadata": {},
   "outputs": [
    {
     "name": "stdout",
     "output_type": "stream",
     "text": [
      "enter any alphabeti\n",
      "i is vowel\n"
     ]
    }
   ],
   "source": [
    "#(8)Write a Python program to test whether a passed letter is a vowel or not\n",
    "#Program Console Output 1:\n",
    "#Enter a character: A\n",
    "#Letter A is Vowel\n",
    "#Program Console Output 2:\n",
    "#Enter a character: e\n",
    "#Letter e is Vowel\n",
    "alph=input(\"enter any alphabet\")\n",
    "if alph ==\"A\"or alph==\"E\"or alph==\"I\"or alph==\"O\"or alph==\"U\"or alph==\"a\"or alph==\"e\"or alph==\"i\"or alph==\"o\"or alph==\"u\":\n",
    "    print(alph ,\"is vowel\")\n",
    "else:\n",
    "    print(alph,\"is not vowel\")\n"
   ]
  },
  {
   "cell_type": "code",
   "execution_count": 38,
   "metadata": {},
   "outputs": [
    {
     "name": "stdout",
     "output_type": "stream",
     "text": [
      "enter height of triangle=12.2\n",
      "enter base of tringle=4.5\n",
      "area of triangle is= 27.45\n"
     ]
    }
   ],
   "source": [
    "#(9)Write a Python program that will accept the base and height of a triangle and compute the area\n",
    "#Program Console Sample 1:\n",
    "#Enter magnitude of Triangle base: 4\n",
    "#Enter Magnitude of Triangle Height: 4\n",
    "#Area of a Triangle with Height 4 and Base 4 is 8\n",
    "height=float(input(\"enter height of triangle=\"))\n",
    "base=float(input(\"enter base of tringle=\"))\n",
    "area=1/2 *base *height\n",
    "print(\"area of triangle is=\",area)"
   ]
  },
  {
   "cell_type": "code",
   "execution_count": 46,
   "metadata": {},
   "outputs": [
    {
     "name": "stdout",
     "output_type": "stream",
     "text": [
      "enter your amount123333\n",
      "enter rate0.14\n",
      "enter no. of year4\n",
      "after 4 years your amount  123333.0  over an interest rate of  0.14 % will be   208304.5234132801\n"
     ]
    }
   ],
   "source": [
    "#(10)Write a Python program to compute the future value of a specified principal amount, rate of interest, and a number\n",
    "#of years\n",
    "#Program Console Sample 1:\n",
    "#Please enter principal amount: 10000\n",
    "#Please Enter Rate of interest in %: 0.1\n",
    "#Enter number of years for investment: 5\n",
    "#After 5 years your principal amount 10000 over an interest rate of 0.1 % will be 16105.1\n",
    "principal_amount=float(input(\"enter your amount\"))\n",
    "rate=float(input(\"enter rate\"))\n",
    "year=int(input(\"enter no. of year\"))\n",
    "amount=principal_amount*((1+rate)**year)\n",
    "print(\"after\",year,\"years your amount \",principal_amount,\" over an interest rate of \",rate,\"% will be  \",amount)\n"
   ]
  },
  {
   "cell_type": "code",
   "execution_count": null,
   "metadata": {},
   "outputs": [],
   "source": []
  }
 ],
 "metadata": {
  "kernelspec": {
   "display_name": "Python 3",
   "language": "python",
   "name": "python3"
  },
  "language_info": {
   "codemirror_mode": {
    "name": "ipython",
    "version": 3
   },
   "file_extension": ".py",
   "mimetype": "text/x-python",
   "name": "python",
   "nbconvert_exporter": "python",
   "pygments_lexer": "ipython3",
   "version": "3.7.3"
  }
 },
 "nbformat": 4,
 "nbformat_minor": 2
}
